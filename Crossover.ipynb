{
 "cells": [
  {
   "cell_type": "code",
   "execution_count": 1,
   "metadata": {},
   "outputs": [
    {
     "name": "stdout",
     "output_type": "stream",
     "text": [
      "Bag size: 10\n",
      "Total itens: 7\n"
     ]
    }
   ],
   "source": [
    "from random import randint\n",
    "from utils import crossover\n",
    "from chromosome import Chromosome\n",
    "from settings import MAX_ITENS, BAG_SIZE\n",
    "\n",
    "print(\"Bag size: {}\".format(BAG_SIZE))\n",
    "print(\"Total itens: {}\".format(MAX_ITENS))"
   ]
  },
  {
   "cell_type": "code",
   "execution_count": 2,
   "metadata": {},
   "outputs": [],
   "source": [
    "# Generating a valid chromosome 1\n",
    "c1 = None\n",
    "\n",
    "while True:\n",
    "    random_gene = [ randint(0, 1) for i in range(MAX_ITENS) ]\n",
    "    c1 = Chromosome(random_gene)\n",
    "    if c1.fitness[0] <= BAG_SIZE:\n",
    "        break"
   ]
  },
  {
   "cell_type": "code",
   "execution_count": 3,
   "metadata": {},
   "outputs": [
    {
     "data": {
      "text/plain": [
       "Fitness: [ 3 14]"
      ]
     },
     "execution_count": 3,
     "metadata": {},
     "output_type": "execute_result"
    }
   ],
   "source": [
    "c1"
   ]
  },
  {
   "cell_type": "code",
   "execution_count": 4,
   "metadata": {},
   "outputs": [],
   "source": [
    "# Generating a valid chromosome 2\n",
    "c2 = None\n",
    "\n",
    "while True:\n",
    "    random_gene = [ randint(0, 1) for i in range(MAX_ITENS) ]\n",
    "    c2 = Chromosome(random_gene)\n",
    "    if c2.fitness[0] <= BAG_SIZE:\n",
    "        break"
   ]
  },
  {
   "cell_type": "code",
   "execution_count": 5,
   "metadata": {},
   "outputs": [
    {
     "data": {
      "text/plain": [
       "Fitness: [ 8 14]"
      ]
     },
     "execution_count": 5,
     "metadata": {},
     "output_type": "execute_result"
    }
   ],
   "source": [
    "c2"
   ]
  },
  {
   "cell_type": "code",
   "execution_count": 21,
   "metadata": {},
   "outputs": [
    {
     "data": {
      "text/plain": [
       "Fitness: [5 3]"
      ]
     },
     "execution_count": 21,
     "metadata": {},
     "output_type": "execute_result"
    }
   ],
   "source": [
    "# Generating a valid son of c1 and c2 chromosomes\n",
    "crossover(c1.gene, c2.gene)"
   ]
  },
  {
   "cell_type": "code",
   "execution_count": 6,
   "metadata": {},
   "outputs": [
    {
     "data": {
      "text/plain": [
       "Fitness: [ 6 15]"
      ]
     },
     "execution_count": 6,
     "metadata": {},
     "output_type": "execute_result"
    }
   ],
   "source": [
    "# Generating a valid son of c2 and c1 chromosomes\n",
    "crossover(c2.gene, c1.gene)"
   ]
  }
 ],
 "metadata": {
  "kernelspec": {
   "display_name": "Python 3",
   "language": "python",
   "name": "python3"
  },
  "language_info": {
   "codemirror_mode": {
    "name": "ipython",
    "version": 3
   },
   "file_extension": ".py",
   "mimetype": "text/x-python",
   "name": "python",
   "nbconvert_exporter": "python",
   "pygments_lexer": "ipython3",
   "version": "3.6.6"
  }
 },
 "nbformat": 4,
 "nbformat_minor": 2
}
