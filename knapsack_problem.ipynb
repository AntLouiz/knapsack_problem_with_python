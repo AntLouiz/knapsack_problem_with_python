{
 "cells": [
  {
   "cell_type": "code",
   "execution_count": 1,
   "metadata": {},
   "outputs": [
    {
     "name": "stdout",
     "output_type": "stream",
     "text": [
      "Bag size: 10\n",
      "Total itens: 7\n",
      "Population size: 20\n",
      "Selection percetual: 80%\n"
     ]
    }
   ],
   "source": [
    "import random\n",
    "from settings import (\n",
    "    BAG_SIZE,\n",
    "    MAX_ITENS,\n",
    "    POPULATION_SIZE,\n",
    "    SELECTION_PERCENT,\n",
    "    MUTATION_PERCENT\n",
    ")\n",
    "from chromosome import Chromosome\n",
    "from utils import roulette_selection, crossover, mutate\n",
    "\n",
    "print(\"Bag size: {}\".format(BAG_SIZE))\n",
    "print(\"Total itens: {}\".format(MAX_ITENS))\n",
    "print(\"Population size: {}\".format(POPULATION_SIZE))\n",
    "print(\"Selection percetual: {}%\".format(SELECTION_PERCENT))"
   ]
  },
  {
   "cell_type": "code",
   "execution_count": 2,
   "metadata": {},
   "outputs": [],
   "source": [
    "population = []"
   ]
  },
  {
   "cell_type": "code",
   "execution_count": 3,
   "metadata": {},
   "outputs": [
    {
     "data": {
      "text/plain": [
       "[Fitness: [6 8],\n",
       " Fitness: [7 9],\n",
       " Fitness: [6 9],\n",
       " Fitness: [10  8],\n",
       " Fitness: [6 9],\n",
       " Fitness: [6 2],\n",
       " Fitness: [8 5],\n",
       " Fitness: [0 0],\n",
       " Fitness: [10  8],\n",
       " Fitness: [5 2],\n",
       " Fitness: [6 9],\n",
       " Fitness: [10  8],\n",
       " Fitness: [6 8],\n",
       " Fitness: [6 1],\n",
       " Fitness: [5 2],\n",
       " Fitness: [5 6],\n",
       " Fitness: [5 2],\n",
       " Fitness: [ 8 12],\n",
       " Fitness: [7 9],\n",
       " Fitness: [5 2]]"
      ]
     },
     "execution_count": 3,
     "metadata": {},
     "output_type": "execute_result"
    }
   ],
   "source": [
    "# Fill the population with valid chromosomes\n",
    "while len(population) != POPULATION_SIZE:\n",
    "    gene = [random.randint(0, 1) for i in range(MAX_ITENS)]\n",
    "    c = Chromosome(gene)\n",
    "    if c.fitness[0] <= BAG_SIZE:\n",
    "        population.append(c)\n",
    "        \n",
    "population"
   ]
  },
  {
   "cell_type": "code",
   "execution_count": 4,
   "metadata": {},
   "outputs": [],
   "source": [
    "# A list to append the selected chromosome to the selected population\n",
    "selected_population = []"
   ]
  },
  {
   "cell_type": "code",
   "execution_count": 5,
   "metadata": {},
   "outputs": [
    {
     "data": {
      "text/plain": [
       "[Fitness: [5 2], Fitness: [5 2], Fitness: [0 0], Fitness: [10  8]]"
      ]
     },
     "execution_count": 5,
     "metadata": {},
     "output_type": "execute_result"
    }
   ],
   "source": [
    "# Select random chromosomes to the selected population\n",
    "random_selecteds_size = POPULATION_SIZE - int((POPULATION_SIZE * SELECTION_PERCENT) / 100)\n",
    "\n",
    "for i in range(random_selecteds_size):\n",
    "    selected_population.append(population[random.randint(0, len(population) - 1)])\n",
    "\n",
    "selected_population"
   ]
  },
  {
   "cell_type": "code",
   "execution_count": 6,
   "metadata": {},
   "outputs": [
    {
     "data": {
      "text/plain": [
       "16"
      ]
     },
     "execution_count": 6,
     "metadata": {},
     "output_type": "execute_result"
    }
   ],
   "source": [
    "int((POPULATION_SIZE * SELECTION_PERCENT) / 100)"
   ]
  },
  {
   "cell_type": "code",
   "execution_count": 7,
   "metadata": {},
   "outputs": [
    {
     "data": {
      "text/plain": [
       "[Fitness: [5 2],\n",
       " Fitness: [5 2],\n",
       " Fitness: [0 0],\n",
       " Fitness: [10  8],\n",
       " Fitness: [8 5],\n",
       " Fitness: [6 1],\n",
       " Fitness: [10  8],\n",
       " Fitness: [7 9],\n",
       " Fitness: [10  8],\n",
       " Fitness: [8 5],\n",
       " Fitness: [6 2],\n",
       " Fitness: [5 2],\n",
       " Fitness: [10  8],\n",
       " Fitness: [6 8],\n",
       " Fitness: [6 8],\n",
       " Fitness: [5 2],\n",
       " Fitness: [10  8],\n",
       " Fitness: [6 9],\n",
       " Fitness: [5 2],\n",
       " Fitness: [6 9]]"
      ]
     },
     "execution_count": 7,
     "metadata": {},
     "output_type": "execute_result"
    }
   ],
   "source": [
    "# Select the population using the roulette wheel\n",
    "\n",
    "for i in range(int((POPULATION_SIZE * SELECTION_PERCENT) / 100)):\n",
    "    selected_population.append(roulette_selection(population))\n",
    "\n",
    "selected_population"
   ]
  },
  {
   "cell_type": "code",
   "execution_count": 8,
   "metadata": {},
   "outputs": [
    {
     "data": {
      "text/plain": [
       "20"
      ]
     },
     "execution_count": 8,
     "metadata": {},
     "output_type": "execute_result"
    }
   ],
   "source": [
    "# The selected_population must be equals POPULATION_SIZE\n",
    "len(selected_population)"
   ]
  },
  {
   "cell_type": "code",
   "execution_count": 9,
   "metadata": {},
   "outputs": [],
   "source": [
    "# Combine the population with pairs\n",
    "\n",
    "selected_population = zip(\n",
    "    selected_population,\n",
    "    selected_population[int(len(selected_population) / 2):]\n",
    ")"
   ]
  },
  {
   "cell_type": "code",
   "execution_count": 10,
   "metadata": {},
   "outputs": [
    {
     "data": {
      "text/plain": [
       "<zip at 0xae5de20c>"
      ]
     },
     "execution_count": 10,
     "metadata": {},
     "output_type": "execute_result"
    }
   ],
   "source": [
    "selected_population"
   ]
  },
  {
   "cell_type": "code",
   "execution_count": 11,
   "metadata": {},
   "outputs": [],
   "source": [
    "# A list with the next generation\n",
    "new_population = []"
   ]
  },
  {
   "cell_type": "code",
   "execution_count": 12,
   "metadata": {},
   "outputs": [],
   "source": [
    "for x, y in selected_population:\n",
    "    new_population.append(crossover(x.gene, y.gene))\n",
    "    new_population.append(crossover(y.gene, x.gene))"
   ]
  },
  {
   "cell_type": "code",
   "execution_count": 13,
   "metadata": {},
   "outputs": [
    {
     "data": {
      "text/plain": [
       "[Fitness: [6 2],\n",
       " Fitness: [5 2],\n",
       " Fitness: [5 2],\n",
       " Fitness: [5 2],\n",
       " Fitness: [5 2],\n",
       " Fitness: [10  8],\n",
       " Fitness: [5 6],\n",
       " Fitness: [5 6],\n",
       " Fitness: [ 8 11],\n",
       " Fitness: [ 8 11],\n",
       " Fitness: [6 1],\n",
       " Fitness: [6 1],\n",
       " Fitness: [10  8],\n",
       " Fitness: [10  8],\n",
       " Fitness: [5 6],\n",
       " Fitness: [2 3],\n",
       " Fitness: [5 2],\n",
       " Fitness: [10  8],\n",
       " Fitness: [ 8 12],\n",
       " Fitness: [6 2]]"
      ]
     },
     "execution_count": 13,
     "metadata": {},
     "output_type": "execute_result"
    }
   ],
   "source": [
    "new_population"
   ]
  },
  {
   "cell_type": "code",
   "execution_count": 14,
   "metadata": {},
   "outputs": [
    {
     "data": {
      "text/plain": [
       "20"
      ]
     },
     "execution_count": 14,
     "metadata": {},
     "output_type": "execute_result"
    }
   ],
   "source": [
    "len(new_population)"
   ]
  },
  {
   "cell_type": "code",
   "execution_count": 15,
   "metadata": {},
   "outputs": [
    {
     "data": {
      "text/plain": [
       "2"
      ]
     },
     "execution_count": 15,
     "metadata": {},
     "output_type": "execute_result"
    }
   ],
   "source": [
    "population_to_mutate = int((POPULATION_SIZE * MUTATION_PERCENT) / 100)\n",
    "population_to_mutate"
   ]
  },
  {
   "cell_type": "code",
   "execution_count": 16,
   "metadata": {},
   "outputs": [],
   "source": [
    "for i in range(population_to_mutate):\n",
    "    new_population[random.randint(0, MAX_ITENS - 1)].gene = mutate(new_population[random.randint(0, MAX_ITENS - 1)].gene)"
   ]
  },
  {
   "cell_type": "code",
   "execution_count": 17,
   "metadata": {},
   "outputs": [
    {
     "data": {
      "text/plain": [
       "[Fitness: [7 5],\n",
       " Fitness: [5 2],\n",
       " Fitness: [5 2],\n",
       " Fitness: [11  3],\n",
       " Fitness: [5 2],\n",
       " Fitness: [10  8],\n",
       " Fitness: [5 6],\n",
       " Fitness: [5 6],\n",
       " Fitness: [ 8 11],\n",
       " Fitness: [ 8 11],\n",
       " Fitness: [6 1],\n",
       " Fitness: [6 1],\n",
       " Fitness: [10  8],\n",
       " Fitness: [10  8],\n",
       " Fitness: [5 6],\n",
       " Fitness: [2 3],\n",
       " Fitness: [5 2],\n",
       " Fitness: [10  8],\n",
       " Fitness: [ 8 12],\n",
       " Fitness: [6 2]]"
      ]
     },
     "execution_count": 17,
     "metadata": {},
     "output_type": "execute_result"
    }
   ],
   "source": [
    "new_population"
   ]
  }
 ],
 "metadata": {
  "kernelspec": {
   "display_name": "Python 3",
   "language": "python",
   "name": "python3"
  },
  "language_info": {
   "codemirror_mode": {
    "name": "ipython",
    "version": 3
   },
   "file_extension": ".py",
   "mimetype": "text/x-python",
   "name": "python",
   "nbconvert_exporter": "python",
   "pygments_lexer": "ipython3",
   "version": "3.6.6"
  }
 },
 "nbformat": 4,
 "nbformat_minor": 2
}
