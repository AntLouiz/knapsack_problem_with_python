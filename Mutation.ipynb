{
 "cells": [
  {
   "cell_type": "code",
   "execution_count": 1,
   "metadata": {},
   "outputs": [
    {
     "name": "stdout",
     "output_type": "stream",
     "text": [
      "Bag size: 10\n",
      "Total itens: 7\n"
     ]
    }
   ],
   "source": [
    "from random import randint\n",
    "from utils import crossover, chromosome_is_valid\n",
    "from chromosome import Chromosome\n",
    "from settings import MAX_ITENS, BAG_SIZE\n",
    "\n",
    "print(\"Bag size: {}\".format(BAG_SIZE))\n",
    "print(\"Total itens: {}\".format(MAX_ITENS))"
   ]
  },
  {
   "cell_type": "code",
   "execution_count": 2,
   "metadata": {},
   "outputs": [],
   "source": [
    "# Generating a valid chromosome 1\n",
    "c1 = None\n",
    "\n",
    "while True:\n",
    "    random_gene = [ randint(0, 1) for i in range(MAX_ITENS) ]\n",
    "    c1 = Chromosome(random_gene)\n",
    "    if c1.fitness[0] <= BAG_SIZE:\n",
    "        break"
   ]
  },
  {
   "cell_type": "code",
   "execution_count": 3,
   "metadata": {},
   "outputs": [
    {
     "data": {
      "text/plain": [
       "Fitness: [ 7 10]"
      ]
     },
     "execution_count": 3,
     "metadata": {},
     "output_type": "execute_result"
    }
   ],
   "source": [
    "c1"
   ]
  },
  {
   "cell_type": "code",
   "execution_count": 4,
   "metadata": {},
   "outputs": [],
   "source": [
    "# Generating a valid chromosome 2\n",
    "c2 = None\n",
    "\n",
    "while True:\n",
    "    random_gene = [ randint(0, 1) for i in range(MAX_ITENS) ]\n",
    "    c2 = Chromosome(random_gene)\n",
    "    if c2.fitness[0] <= BAG_SIZE:\n",
    "        break"
   ]
  },
  {
   "cell_type": "code",
   "execution_count": 5,
   "metadata": {},
   "outputs": [
    {
     "data": {
      "text/plain": [
       "Fitness: [10 10]"
      ]
     },
     "execution_count": 5,
     "metadata": {},
     "output_type": "execute_result"
    }
   ],
   "source": [
    "c2"
   ]
  },
  {
   "cell_type": "code",
   "execution_count": 6,
   "metadata": {},
   "outputs": [
    {
     "data": {
      "text/plain": [
       "[0, 0, 0, 1, 0, 1, 1]"
      ]
     },
     "execution_count": 6,
     "metadata": {},
     "output_type": "execute_result"
    }
   ],
   "source": [
    "c2.gene"
   ]
  },
  {
   "cell_type": "code",
   "execution_count": 7,
   "metadata": {},
   "outputs": [
    {
     "name": "stdout",
     "output_type": "stream",
     "text": [
      "Fitness: [7 7]\n"
     ]
    }
   ],
   "source": [
    "mutated_gene = []\n",
    "\n",
    "while True:\n",
    "    random_gene_index = randint(0, MAX_ITENS - 1)\n",
    "    for i in range(MAX_ITENS):\n",
    "        if i == random_gene_index:\n",
    "            mutated_gene.append(randint(0, 1))\n",
    "        else:\n",
    "            mutated_gene.append(c2.gene[i])\n",
    "            \n",
    "    mutated_chromosome = Chromosome(mutated_gene)\n",
    "    print(mutated_chromosome)\n",
    "    if chromosome_is_valid(mutated_chromosome):\n",
    "        break\n",
    "    else:\n",
    "        mutated_gene = []"
   ]
  },
  {
   "cell_type": "code",
   "execution_count": 8,
   "metadata": {},
   "outputs": [
    {
     "data": {
      "text/plain": [
       "[0, 0, 0, 1, 0, 0, 1]"
      ]
     },
     "execution_count": 8,
     "metadata": {},
     "output_type": "execute_result"
    }
   ],
   "source": [
    "mutated_gene"
   ]
  },
  {
   "cell_type": "code",
   "execution_count": 9,
   "metadata": {},
   "outputs": [
    {
     "data": {
      "text/plain": [
       "Fitness: [7 7]"
      ]
     },
     "execution_count": 9,
     "metadata": {},
     "output_type": "execute_result"
    }
   ],
   "source": [
    "mutated_chromosome"
   ]
  }
 ],
 "metadata": {
  "kernelspec": {
   "display_name": "Python 3",
   "language": "python",
   "name": "python3"
  },
  "language_info": {
   "codemirror_mode": {
    "name": "ipython",
    "version": 3
   },
   "file_extension": ".py",
   "mimetype": "text/x-python",
   "name": "python",
   "nbconvert_exporter": "python",
   "pygments_lexer": "ipython3",
   "version": "3.6.6"
  }
 },
 "nbformat": 4,
 "nbformat_minor": 2
}
